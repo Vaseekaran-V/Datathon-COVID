{
 "cells": [
  {
   "cell_type": "code",
   "execution_count": 115,
   "metadata": {},
   "outputs": [],
   "source": [
    "import tensorflow as tf"
   ]
  },
  {
   "cell_type": "code",
   "execution_count": 116,
   "metadata": {},
   "outputs": [],
   "source": [
    "import numpy as np\n",
    "import matplotlib.pyplot as plt\n",
    "def plot_series(time, series, format = \"-\", start = 0, end = None):\n",
    "    plt.plot(time[start:end], series[start:end], format)\n",
    "    plt.xlabel(\"Time\")\n",
    "    plt.ylabel(\"Value\")\n",
    "    plt.grid(True)"
   ]
  },
  {
   "cell_type": "code",
   "execution_count": 117,
   "metadata": {},
   "outputs": [],
   "source": [
    "import pandas as pd\n",
    "time_data = pd.read_csv(r'../Dataset/2nd_Wave_Dataset.csv', header=None)"
   ]
  },
  {
   "cell_type": "code",
   "execution_count": 118,
   "metadata": {},
   "outputs": [
    {
     "data": {
      "image/png": "[encoded data removed]",
      "text/plain": [
       "<Figure size 720x432 with 1 Axes>"
      ]
     },
     "metadata": {
      "needs_background": "light"
     },
     "output_type": "display_data"
    }
   ],
   "source": [
    "import csv\n",
    "time_step = []\n",
    "covid = []\n",
    "step = 1\n",
    "\n",
    "with open(r'../Dataset/2nd_Wave_dataset.csv') as csvfile:\n",
    "    reader = csv.reader(csvfile, delimiter=',')\n",
    "    next(reader)\n",
    "    for row in reader:\n",
    "        covid.append(float(row[1]))\n",
    "        time_step.append(step)\n",
    "        step += 1\n",
    "        \n",
    "series = np.array(covid)\n",
    "time = np.array(time_step)\n",
    "plt.figure(figsize=(10, 6))\n",
    "plot_series(time, series)"
   ]
  },
  {
   "cell_type": "code",
   "execution_count": 119,
   "metadata": {},
   "outputs": [
    {
     "data": {
      "text/plain": [
       "26"
      ]
     },
     "execution_count": 119,
     "metadata": {},
     "output_type": "execute_result"
    }
   ],
   "source": [
    "len(series)"
   ]
  },
  {
   "cell_type": "code",
   "execution_count": 120,
   "metadata": {},
   "outputs": [],
   "source": [
    "w1 = 1,2,3,4,5\n",
    "w2 = 2,3,4,5,6"
   ]
  },
  {
   "cell_type": "code",
   "execution_count": 121,
   "metadata": {},
   "outputs": [],
   "source": [
    "split_time = 22\n",
    "time_train = time[:split_time]\n",
    "x_train = series[:split_time]\n",
    "time_valid = time[split_time:]\n",
    "x_valid = series[split_time:]\n",
    "\n",
    "window_size = 20\n",
    "batch_size = 3 ##changed from 22 to 3\n",
    "shuffle_buffer_size = 20"
   ]
  },
  {
   "cell_type": "code",
   "execution_count": 122,
   "metadata": {},
   "outputs": [],
   "source": [
    "def windowed_dataset(series, window_size, batch_size, shuffle_buffer):\n",
    "    series = tf.expand_dims(series, axis=-1)\n",
    "    ds = tf.data.Dataset.from_tensor_slices(series)\n",
    "    ds = ds.window(window_size + 1, shift=1, drop_remainder=True)\n",
    "    ds = ds.flat_map(lambda w: w.batch(window_size + 1))\n",
    "    ds = ds.shuffle(shuffle_buffer)\n",
    "    ds = ds.map(lambda w: (w[:-1], w[1:]))\n",
    "    return ds.batch(batch_size).prefetch(1)"
   ]
  },
  {
   "cell_type": "code",
   "execution_count": 123,
   "metadata": {},
   "outputs": [],
   "source": [
    "def model_forecast(model, series, window_size):\n",
    "    ds = tf.data.Dataset.from_tensor_slices(series)\n",
    "    ds = ds.window(window_size, shift=1, drop_remainder=True)\n",
    "    ds = ds.flat_map(lambda w: w.batch(window_size))\n",
    "    ds = ds.batch(32).prefetch(1)\n",
    "    forecast = model.predict(ds)\n",
    "    return forecast"
   ]
  },
  {
   "cell_type": "code",
   "execution_count": 124,
   "metadata": {},
   "outputs": [
    {
     "name": "stdout",
     "output_type": "stream",
     "text": [
      "<PrefetchDataset shapes: ((None, None, 1), (None, None, 1)), types: (tf.float64, tf.float64)>\n",
      "(22,)\n",
      "Epoch 1/100\n",
      "WARNING:tensorflow:Layer bidirectional is casting an input tensor from dtype float64 to the layer's dtype of float32, which is new behavior in TensorFlow 2.  The layer has dtype float32 because its dtype defaults to floatx.\n",
      "\n",
      "If you intended to run this layer in float32, you can safely ignore this warning. If in doubt, this warning is likely only an issue if you are porting a TensorFlow 1.X model to TensorFlow 2.\n",
      "\n",
      "To change all layers to have dtype float64 by default, call `tf.keras.backend.set_floatx('float64')`. To change just this layer, pass dtype='float64' to the layer constructor. If you are the author of this layer, you can disable autocasting by passing autocast=False to the base Layer constructor.\n",
      "\n",
      "1/1 [==============================] - 0s 5ms/step - loss: 122.2174 - mae: 122.7174\n",
      "Epoch 2/100\n",
      "1/1 [==============================] - 0s 1ms/step - loss: 122.2039 - mae: 122.7039\n",
      "Epoch 3/100\n",
      "1/1 [==============================] - 0s 949us/step - loss: 122.1783 - mae: 122.6783\n",
      "Epoch 4/100\n",
      "1/1 [==============================] - 0s 1ms/step - loss: 122.1413 - mae: 122.6413\n",
      "Epoch 5/100\n",
      "1/1 [==============================] - 0s 1ms/step - loss: 122.0933 - mae: 122.5933\n",
      "Epoch 6/100\n",
      "1/1 [==============================] - 0s 1ms/step - loss: 122.0345 - mae: 122.5345\n",
      "Epoch 7/100\n",
      "1/1 [==============================] - 0s 1ms/step - loss: 121.9648 - mae: 122.4648\n",
      "Epoch 8/100\n",
      "1/1 [==============================] - 0s 1ms/step - loss: 121.8835 - mae: 122.3835\n",
      "Epoch 9/100\n",
      "1/1 [==============================] - 0s 1ms/step - loss: 121.7899 - mae: 122.2899\n",
      "Epoch 10/100\n",
      "1/1 [==============================] - 0s 1ms/step - loss: 121.6832 - mae: 122.1832\n",
      "Epoch 11/100\n",
      "1/1 [==============================] - 0s 1ms/step - loss: 121.5621 - mae: 122.0621\n",
      "Epoch 12/100\n",
      "1/1 [==============================] - 0s 966us/step - loss: 121.4260 - mae: 121.9251\n",
      "Epoch 13/100\n",
      "1/1 [==============================] - 0s 884us/step - loss: 121.2768 - mae: 121.7716\n",
      "Epoch 14/100\n",
      "1/1 [==============================] - 0s 957us/step - loss: 121.1160 - mae: 121.6040\n",
      "Epoch 15/100\n",
      "1/1 [==============================] - 0s 1ms/step - loss: 120.9474 - mae: 121.4387\n",
      "Epoch 16/100\n",
      "1/1 [==============================] - 0s 3ms/step - loss: 120.7735 - mae: 121.2635\n",
      "Epoch 17/100\n",
      "1/1 [==============================] - 0s 1ms/step - loss: 120.5966 - mae: 121.0907\n",
      "Epoch 18/100\n",
      "1/1 [==============================] - 0s 1ms/step - loss: 120.4234 - mae: 120.9074\n",
      "Epoch 19/100\n",
      "1/1 [==============================] - 0s 1ms/step - loss: 120.2555 - mae: 120.7431\n",
      "Epoch 20/100\n",
      "1/1 [==============================] - 0s 1ms/step - loss: 120.0912 - mae: 120.5892\n",
      "Epoch 21/100\n",
      "1/1 [==============================] - 0s 1ms/step - loss: 119.9258 - mae: 120.4258\n",
      "Epoch 22/100\n",
      "1/1 [==============================] - 0s 1ms/step - loss: 119.7519 - mae: 120.2512\n",
      "Epoch 23/100\n",
      "1/1 [==============================] - 0s 1ms/step - loss: 119.5715 - mae: 120.0631\n",
      "Epoch 24/100\n",
      "1/1 [==============================] - 0s 2ms/step - loss: 119.3871 - mae: 119.8833\n",
      "Epoch 25/100\n",
      "1/1 [==============================] - 0s 2ms/step - loss: 119.2049 - mae: 119.7002\n",
      "Epoch 26/100\n",
      "1/1 [==============================] - 0s 1ms/step - loss: 119.0282 - mae: 119.5221\n",
      "Epoch 27/100\n",
      "1/1 [==============================] - 0s 1ms/step - loss: 118.8546 - mae: 119.3546\n",
      "Epoch 28/100\n",
      "1/1 [==============================] - 0s 909us/step - loss: 118.6789 - mae: 119.1787\n",
      "Epoch 29/100\n",
      "1/1 [==============================] - 0s 996us/step - loss: 118.5017 - mae: 118.9918\n",
      "Epoch 30/100\n",
      "1/1 [==============================] - 0s 1ms/step - loss: 118.3303 - mae: 118.8291\n",
      "Epoch 31/100\n",
      "1/1 [==============================] - 0s 2ms/step - loss: 118.1723 - mae: 118.6647\n",
      "Epoch 32/100\n",
      "1/1 [==============================] - 0s 1ms/step - loss: 118.0267 - mae: 118.5244\n",
      "Epoch 33/100\n",
      "1/1 [==============================] - 0s 2ms/step - loss: 117.8916 - mae: 118.3916\n",
      "Epoch 34/100\n",
      "1/1 [==============================] - 0s 1ms/step - loss: 117.7546 - mae: 118.2546\n",
      "Epoch 35/100\n",
      "1/1 [==============================] - 0s 1ms/step - loss: 117.6110 - mae: 118.1110\n",
      "Epoch 36/100\n",
      "1/1 [==============================] - 0s 1ms/step - loss: 117.4709 - mae: 117.9590\n",
      "Epoch 37/100\n",
      "1/1 [==============================] - 0s 1ms/step - loss: 117.3475 - mae: 117.8473\n",
      "Epoch 38/100\n",
      "1/1 [==============================] - 0s 1ms/step - loss: 117.2449 - mae: 117.7345\n",
      "Epoch 39/100\n",
      "1/1 [==============================] - 0s 1ms/step - loss: 117.1560 - mae: 117.6545\n",
      "Epoch 40/100\n",
      "1/1 [==============================] - 0s 2ms/step - loss: 117.0735 - mae: 117.5735\n",
      "Epoch 41/100\n",
      "1/1 [==============================] - 0s 1ms/step - loss: 116.9863 - mae: 117.4863\n",
      "Epoch 42/100\n",
      "1/1 [==============================] - 0s 966us/step - loss: 116.8920 - mae: 117.3920\n",
      "Epoch 43/100\n",
      "1/1 [==============================] - 0s 1ms/step - loss: 116.7890 - mae: 117.2890\n",
      "Epoch 44/100\n",
      "1/1 [==============================] - 0s 958us/step - loss: 116.6749 - mae: 117.1749\n",
      "Epoch 45/100\n",
      "1/1 [==============================] - 0s 1ms/step - loss: 116.5467 - mae: 117.0467\n",
      "Epoch 46/100\n",
      "1/1 [==============================] - 0s 1ms/step - loss: 116.3991 - mae: 116.8991\n",
      "Epoch 47/100\n",
      "1/1 [==============================] - 0s 2ms/step - loss: 116.2459 - mae: 116.7402\n",
      "Epoch 48/100\n",
      "1/1 [==============================] - 0s 2ms/step - loss: 116.1644 - mae: 116.6626\n",
      "Epoch 49/100\n",
      "1/1 [==============================] - 0s 1ms/step - loss: 116.0586 - mae: 116.5464\n",
      "Epoch 50/100\n",
      "1/1 [==============================] - 0s 1ms/step - loss: 115.8888 - mae: 116.3888\n",
      "Epoch 51/100\n",
      "1/1 [==============================] - 0s 2ms/step - loss: 115.7070 - mae: 116.2058\n",
      "Epoch 52/100\n",
      "1/1 [==============================] - 0s 1ms/step - loss: 115.5152 - mae: 116.0091\n",
      "Epoch 53/100\n",
      "1/1 [==============================] - 0s 2ms/step - loss: 115.2348 - mae: 115.7337\n",
      "Epoch 54/100\n",
      "1/1 [==============================] - 0s 1ms/step - loss: 114.8508 - mae: 115.3508\n",
      "Epoch 55/100\n",
      "1/1 [==============================] - 0s 1ms/step - loss: 114.2438 - mae: 114.7438\n",
      "Epoch 56/100\n",
      "1/1 [==============================] - 0s 973us/step - loss: 113.0822 - mae: 113.5822\n",
      "Epoch 57/100\n",
      "1/1 [==============================] - 0s 933us/step - loss: 111.9246 - mae: 112.4246\n",
      "Epoch 58/100\n",
      "1/1 [==============================] - 0s 979us/step - loss: 111.1533 - mae: 111.6533\n",
      "Epoch 59/100\n",
      "1/1 [==============================] - 0s 954us/step - loss: 153.8945 - mae: 154.3945\n",
      "Epoch 60/100\n",
      "1/1 [==============================] - 0s 897us/step - loss: 143.9723 - mae: 144.4723\n",
      "Epoch 61/100\n",
      "1/1 [==============================] - 0s 992us/step - loss: 151.2480 - mae: 151.7480\n",
      "Epoch 62/100\n",
      "1/1 [==============================] - 0s 877us/step - loss: 145.4451 - mae: 145.9451\n",
      "Epoch 63/100\n",
      "1/1 [==============================] - 0s 1ms/step - loss: 130.3989 - mae: 130.8904\n",
      "Epoch 64/100\n",
      "1/1 [==============================] - 0s 1ms/step - loss: 120.3341 - mae: 120.8341\n",
      "Epoch 65/100\n",
      "1/1 [==============================] - 0s 1ms/step - loss: 122.9673 - mae: 123.4673\n",
      "Epoch 66/100\n",
      "1/1 [==============================] - 0s 903us/step - loss: 124.5061 - mae: 125.0061\n",
      "Epoch 67/100\n",
      "1/1 [==============================] - 0s 1ms/step - loss: 117.1614 - mae: 117.6614\n",
      "Epoch 68/100\n",
      "1/1 [==============================] - 0s 1ms/step - loss: 118.2230 - mae: 118.7230\n",
      "Epoch 69/100\n",
      "1/1 [==============================] - 0s 1ms/step - loss: 115.9449 - mae: 116.4449\n",
      "Epoch 70/100\n",
      "1/1 [==============================] - 0s 972us/step - loss: 178.8183 - mae: 179.3183\n",
      "Epoch 71/100\n",
      "1/1 [==============================] - 0s 964us/step - loss: 152.7809 - mae: 153.2809\n",
      "Epoch 72/100\n",
      "1/1 [==============================] - 0s 999us/step - loss: 157.8625 - mae: 158.3625\n",
      "Epoch 73/100\n",
      "1/1 [==============================] - 0s 985us/step - loss: 135.2076 - mae: 135.6913\n",
      "Epoch 74/100\n",
      "1/1 [==============================] - 0s 974us/step - loss: 122.1273 - mae: 122.6273\n",
      "Epoch 75/100\n",
      "1/1 [==============================] - 0s 980us/step - loss: 140.9884 - mae: 141.4884\n",
      "Epoch 76/100\n"
     ]
    },
    {
     "name": "stdout",
     "output_type": "stream",
     "text": [
      "1/1 [==============================] - 0s 879us/step - loss: 122.6278 - mae: 123.1278\n",
      "Epoch 77/100\n",
      "1/1 [==============================] - 0s 887us/step - loss: 132.2209 - mae: 132.7209\n",
      "Epoch 78/100\n",
      "1/1 [==============================] - 0s 919us/step - loss: 123.1170 - mae: 123.6170\n",
      "Epoch 79/100\n",
      "1/1 [==============================] - 0s 911us/step - loss: 121.8959 - mae: 122.3959\n",
      "Epoch 80/100\n",
      "1/1 [==============================] - 0s 908us/step - loss: 120.4509 - mae: 120.9509\n",
      "Epoch 81/100\n",
      "1/1 [==============================] - 0s 986us/step - loss: 124.5743 - mae: 125.0743\n",
      "Epoch 82/100\n",
      "1/1 [==============================] - 0s 1ms/step - loss: 122.6299 - mae: 123.1299\n",
      "Epoch 83/100\n",
      "1/1 [==============================] - 0s 893us/step - loss: 119.6966 - mae: 120.1966\n",
      "Epoch 84/100\n",
      "1/1 [==============================] - 0s 1ms/step - loss: 119.4198 - mae: 119.9198\n",
      "Epoch 85/100\n",
      "1/1 [==============================] - 0s 837us/step - loss: 119.2461 - mae: 119.7461\n",
      "Epoch 86/100\n",
      "1/1 [==============================] - 0s 927us/step - loss: 119.0138 - mae: 119.5138\n",
      "Epoch 87/100\n",
      "1/1 [==============================] - 0s 934us/step - loss: 118.6547 - mae: 119.1547\n",
      "Epoch 88/100\n",
      "1/1 [==============================] - 0s 996us/step - loss: 117.9134 - mae: 118.4134\n",
      "Epoch 89/100\n",
      "1/1 [==============================] - 0s 1ms/step - loss: 115.4992 - mae: 115.9991\n",
      "Epoch 90/100\n",
      "1/1 [==============================] - 0s 1ms/step - loss: 112.4057 - mae: 112.9057\n",
      "Epoch 91/100\n",
      "1/1 [==============================] - 0s 1ms/step - loss: 229.4765 - mae: 229.9765\n",
      "Epoch 92/100\n",
      "1/1 [==============================] - 0s 1ms/step - loss: 394.4073 - mae: 394.9073\n",
      "Epoch 93/100\n",
      "1/1 [==============================] - 0s 897us/step - loss: 283.3039 - mae: 283.8039\n",
      "Epoch 94/100\n",
      "1/1 [==============================] - 0s 958us/step - loss: 183.8951 - mae: 184.3951\n",
      "Epoch 95/100\n",
      "1/1 [==============================] - 0s 988us/step - loss: 128.2319 - mae: 128.7319\n",
      "Epoch 96/100\n",
      "1/1 [==============================] - 0s 972us/step - loss: 145.9426 - mae: 146.4426\n",
      "Epoch 97/100\n",
      "1/1 [==============================] - 0s 979us/step - loss: 143.1877 - mae: 143.6877\n",
      "Epoch 98/100\n",
      "1/1 [==============================] - 0s 844us/step - loss: 162.0334 - mae: 162.5334\n",
      "Epoch 99/100\n",
      "1/1 [==============================] - 0s 1ms/step - loss: 122.8300 - mae: 123.3300\n",
      "Epoch 100/100\n",
      "1/1 [==============================] - 0s 965us/step - loss: 183.4250 - mae: 183.9250\n"
     ]
    }
   ],
   "source": [
    "tf.keras.backend.clear_session()\n",
    "tf.random.set_seed(51)\n",
    "np.random.seed(51)\n",
    "window_size = window_size\n",
    "batch_size = batch_size\n",
    "train_set = windowed_dataset(x_train, window_size, batch_size, shuffle_buffer_size)\n",
    "print(train_set)\n",
    "print(x_train.shape)\n",
    "\n",
    "model = tf.keras.models.Sequential([\n",
    "  #tf.keras.layers.Conv1D(filters=10, kernel_size=3, strides=1, padding=\"same\", activation=\"relu\", input_shape=[None, 1]),\n",
    "  tf.keras.layers.Bidirectional(tf.keras.layers.GRU(20, return_sequences=True)),\n",
    "  tf.keras.layers.Dense(5, activation=\"tanh\"),\n",
    "  tf.keras.layers.Dropout(0),\n",
    "  #tf.keras.layers.Dense(10, activation = 'relu'),\n",
    "  tf.keras.layers.Dense(1),\n",
    "  tf.keras.layers.Lambda(lambda x: x * 400)\n",
    "])\n",
    "\n",
    "lr_schedule = tf.keras.callbacks.LearningRateScheduler(\n",
    "    lambda epoch: 1e-8 * 10**(epoch / 20))\n",
    "optimizer = tf.keras.optimizers.SGD(lr=1e-5, momentum=0.78)\n",
    "model.compile(loss=tf.keras.losses.Huber(),\n",
    "              optimizer=optimizer,\n",
    "              metrics=[\"mae\"])\n",
    "history = model.fit(train_set, epochs=100, callbacks=[lr_schedule])"
   ]
  },
  {
   "cell_type": "code",
   "execution_count": 125,
   "metadata": {},
   "outputs": [
    {
     "data": {
      "text/plain": [
       "(1e-08, 0.0001, 0.0, 1000.0)"
      ]
     },
     "execution_count": 125,
     "metadata": {},
     "output_type": "execute_result"
    },
    {
     "data": {
      "image/png": "[encoded data removed]",
      "text/plain": [
       "<Figure size 432x288 with 1 Axes>"
      ]
     },
     "metadata": {
      "needs_background": "light"
     },
     "output_type": "display_data"
    }
   ],
   "source": [
    "plt.semilogx(history.history[\"lr\"], history.history[\"loss\"])\n",
    "plt.axis([1e-8, 1e-4, 0, 1000])"
   ]
  },
  {
   "cell_type": "code",
   "execution_count": 126,
   "metadata": {},
   "outputs": [
    {
     "name": "stdout",
     "output_type": "stream",
     "text": [
      "WARNING:tensorflow:10 out of the last 11 calls to <function Model.make_predict_function.<locals>.predict_function at 0x7f8cfbcf7268> triggered tf.function retracing. Tracing is expensive and the excessive number of tracings could be due to (1) creating @tf.function repeatedly in a loop, (2) passing tensors with different shapes, (3) passing Python objects instead of tensors. For (1), please define your @tf.function outside of the loop. For (2), @tf.function has experimental_relax_shapes=True option that relaxes argument shapes that can avoid unnecessary retracing. For (3), please refer to https://www.tensorflow.org/tutorials/customization/performance#python_or_tensor_args and https://www.tensorflow.org/api_docs/python/tf/function for  more details.\n"
     ]
    }
   ],
   "source": [
    "rnn_forecast = model_forecast(model, series[..., np.newaxis], window_size)\n",
    "rnn_forecast = rnn_forecast[split_time - window_size:-1, -1, 0]"
   ]
  },
  {
   "cell_type": "code",
   "execution_count": 127,
   "metadata": {},
   "outputs": [
    {
     "data": {
      "image/png": "[encoded data removed]",
      "text/plain": [
       "<Figure size 720x432 with 1 Axes>"
      ]
     },
     "metadata": {
      "needs_background": "light"
     },
     "output_type": "display_data"
    }
   ],
   "source": [
    "plt.figure(figsize=(10, 6))\n",
    "plot_series(time_valid, x_valid)\n",
    "plot_series(time_valid, rnn_forecast)"
   ]
  },
  {
   "cell_type": "code",
   "execution_count": 128,
   "metadata": {},
   "outputs": [
    {
     "data": {
      "text/plain": [
       "83.809326"
      ]
     },
     "execution_count": 128,
     "metadata": {},
     "output_type": "execute_result"
    }
   ],
   "source": [
    "tf.keras.metrics.mean_absolute_error(x_valid, rnn_forecast).numpy()"
   ]
  },
  {
   "cell_type": "code",
   "execution_count": 129,
   "metadata": {},
   "outputs": [
    {
     "name": "stdout",
     "output_type": "stream",
     "text": [
      "[532.13806 532.13806 532.1277  531.8904 ]\n"
     ]
    }
   ],
   "source": [
    "print(rnn_forecast)"
   ]
  },
  {
   "cell_type": "code",
   "execution_count": 130,
   "metadata": {},
   "outputs": [
    {
     "name": "stdout",
     "output_type": "stream",
     "text": [
      "Model: \"sequential\"\n",
      "_________________________________________________________________\n",
      "Layer (type)                 Output Shape              Param #   \n",
      "=================================================================\n",
      "bidirectional (Bidirectional (None, None, 40)          2760      \n",
      "_________________________________________________________________\n",
      "dense (Dense)                (None, None, 5)           205       \n",
      "_________________________________________________________________\n",
      "dropout (Dropout)            (None, None, 5)           0         \n",
      "_________________________________________________________________\n",
      "dense_1 (Dense)              (None, None, 1)           6         \n",
      "_________________________________________________________________\n",
      "lambda (Lambda)              (None, None, 1)           0         \n",
      "=================================================================\n",
      "Total params: 2,971\n",
      "Trainable params: 2,971\n",
      "Non-trainable params: 0\n",
      "_________________________________________________________________\n"
     ]
    }
   ],
   "source": [
    "model.summary()"
   ]
  },
  {
   "cell_type": "code",
   "execution_count": null,
   "metadata": {},
   "outputs": [],
   "source": []
  }
 ],
 "metadata": {
  "kernelspec": {
   "display_name": "Python 3",
   "language": "python",
   "name": "python3"
  },
  "language_info": {
   "codemirror_mode": {
    "name": "ipython",
    "version": 3
   },
   "file_extension": ".py",
   "mimetype": "text/x-python",
   "name": "python",
   "nbconvert_exporter": "python",
   "pygments_lexer": "ipython3",
   "version": "3.6.10"
  }
 },
 "nbformat": 4,
 "nbformat_minor": 4
}
