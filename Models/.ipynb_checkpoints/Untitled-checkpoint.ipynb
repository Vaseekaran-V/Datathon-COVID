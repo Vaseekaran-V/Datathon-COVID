{
 "cells": [
  {
   "cell_type": "code",
   "execution_count": 1,
   "metadata": {},
   "outputs": [],
   "source": [
    "import pandas as pd\n",
    "import torch\n",
    "import tensorflow as tf"
   ]
  },
  {
   "cell_type": "code",
   "execution_count": 5,
   "metadata": {},
   "outputs": [],
   "source": [
    "data = pd.read_csv(r'../Dataset/Datathon-COVID-Completed.csv')"
   ]
  },
  {
   "cell_type": "code",
   "execution_count": 11,
   "metadata": {},
   "outputs": [
    {
     "data": {
      "text/html": [
       "<div>\n",
       "<style scoped>\n",
       "    .dataframe tbody tr th:only-of-type {\n",
       "        vertical-align: middle;\n",
       "    }\n",
       "\n",
       "    .dataframe tbody tr th {\n",
       "        vertical-align: top;\n",
       "    }\n",
       "\n",
       "    .dataframe thead th {\n",
       "        text-align: right;\n",
       "    }\n",
       "</style>\n",
       "<table border=\"1\" class=\"dataframe\">\n",
       "  <thead>\n",
       "    <tr style=\"text-align: right;\">\n",
       "      <th></th>\n",
       "      <th>Date</th>\n",
       "      <th>Colombo - Total</th>\n",
       "      <th>Gampaha - Total</th>\n",
       "      <th>Kalatura - Total</th>\n",
       "      <th>Jaffna - Total</th>\n",
       "      <th>Mannar - Total</th>\n",
       "      <th>Kilinochchi</th>\n",
       "      <th>Mullaitivu</th>\n",
       "      <th>Vavuniya - Total</th>\n",
       "      <th>Puttalam - Total</th>\n",
       "      <th>...</th>\n",
       "      <th>Matara - Total</th>\n",
       "      <th>Galle - Total</th>\n",
       "      <th>Kandakadu Rehabilitation Center - Total</th>\n",
       "      <th>Naval Base - Welisara - Total</th>\n",
       "      <th>Overseas Arrivals (Quarantine Centers) - Total</th>\n",
       "      <th>Senapura Rehabilitation Center - Total</th>\n",
       "      <th>Unspecified - Total</th>\n",
       "      <th>Godagama - Total</th>\n",
       "      <th>Kendalanda - Total</th>\n",
       "      <th>Total_Island</th>\n",
       "    </tr>\n",
       "  </thead>\n",
       "  <tbody>\n",
       "    <tr>\n",
       "      <th>277</th>\n",
       "      <td>10/30/20</td>\n",
       "      <td>0</td>\n",
       "      <td>0</td>\n",
       "      <td>0</td>\n",
       "      <td>0</td>\n",
       "      <td>0</td>\n",
       "      <td>NaN</td>\n",
       "      <td>NaN</td>\n",
       "      <td>0</td>\n",
       "      <td>0</td>\n",
       "      <td>...</td>\n",
       "      <td>0</td>\n",
       "      <td>0</td>\n",
       "      <td>0</td>\n",
       "      <td>0</td>\n",
       "      <td>0</td>\n",
       "      <td>0</td>\n",
       "      <td>0</td>\n",
       "      <td>0</td>\n",
       "      <td>0</td>\n",
       "      <td>0.0</td>\n",
       "    </tr>\n",
       "    <tr>\n",
       "      <th>278</th>\n",
       "      <td>10/31/20</td>\n",
       "      <td>0</td>\n",
       "      <td>0</td>\n",
       "      <td>0</td>\n",
       "      <td>0</td>\n",
       "      <td>0</td>\n",
       "      <td>NaN</td>\n",
       "      <td>NaN</td>\n",
       "      <td>0</td>\n",
       "      <td>0</td>\n",
       "      <td>...</td>\n",
       "      <td>0</td>\n",
       "      <td>0</td>\n",
       "      <td>0</td>\n",
       "      <td>0</td>\n",
       "      <td>0</td>\n",
       "      <td>0</td>\n",
       "      <td>0</td>\n",
       "      <td>0</td>\n",
       "      <td>0</td>\n",
       "      <td>0.0</td>\n",
       "    </tr>\n",
       "    <tr>\n",
       "      <th>279</th>\n",
       "      <td>11/1/20</td>\n",
       "      <td>0</td>\n",
       "      <td>0</td>\n",
       "      <td>0</td>\n",
       "      <td>0</td>\n",
       "      <td>0</td>\n",
       "      <td>NaN</td>\n",
       "      <td>NaN</td>\n",
       "      <td>0</td>\n",
       "      <td>0</td>\n",
       "      <td>...</td>\n",
       "      <td>0</td>\n",
       "      <td>0</td>\n",
       "      <td>0</td>\n",
       "      <td>0</td>\n",
       "      <td>0</td>\n",
       "      <td>0</td>\n",
       "      <td>0</td>\n",
       "      <td>0</td>\n",
       "      <td>0</td>\n",
       "      <td>0.0</td>\n",
       "    </tr>\n",
       "    <tr>\n",
       "      <th>280</th>\n",
       "      <td>11/2/20</td>\n",
       "      <td>0</td>\n",
       "      <td>0</td>\n",
       "      <td>0</td>\n",
       "      <td>0</td>\n",
       "      <td>0</td>\n",
       "      <td>NaN</td>\n",
       "      <td>NaN</td>\n",
       "      <td>0</td>\n",
       "      <td>0</td>\n",
       "      <td>...</td>\n",
       "      <td>0</td>\n",
       "      <td>0</td>\n",
       "      <td>0</td>\n",
       "      <td>0</td>\n",
       "      <td>0</td>\n",
       "      <td>0</td>\n",
       "      <td>0</td>\n",
       "      <td>0</td>\n",
       "      <td>0</td>\n",
       "      <td>0.0</td>\n",
       "    </tr>\n",
       "    <tr>\n",
       "      <th>281</th>\n",
       "      <td>NaN</td>\n",
       "      <td>1887</td>\n",
       "      <td>2483</td>\n",
       "      <td>131</td>\n",
       "      <td>61</td>\n",
       "      <td>8</td>\n",
       "      <td>0.0</td>\n",
       "      <td>0.0</td>\n",
       "      <td>6</td>\n",
       "      <td>48</td>\n",
       "      <td>...</td>\n",
       "      <td>6</td>\n",
       "      <td>24</td>\n",
       "      <td>396</td>\n",
       "      <td>0</td>\n",
       "      <td>8</td>\n",
       "      <td>145</td>\n",
       "      <td>3741</td>\n",
       "      <td>1</td>\n",
       "      <td>1</td>\n",
       "      <td>NaN</td>\n",
       "    </tr>\n",
       "  </tbody>\n",
       "</table>\n",
       "<p>5 rows × 34 columns</p>\n",
       "</div>"
      ],
      "text/plain": [
       "         Date  Colombo - Total  Gampaha - Total  Kalatura - Total  \\\n",
       "277  10/30/20                0                0                 0   \n",
       "278  10/31/20                0                0                 0   \n",
       "279   11/1/20                0                0                 0   \n",
       "280   11/2/20                0                0                 0   \n",
       "281       NaN             1887             2483               131   \n",
       "\n",
       "     Jaffna - Total  Mannar - Total  Kilinochchi  Mullaitivu  \\\n",
       "277               0               0          NaN         NaN   \n",
       "278               0               0          NaN         NaN   \n",
       "279               0               0          NaN         NaN   \n",
       "280               0               0          NaN         NaN   \n",
       "281              61               8          0.0         0.0   \n",
       "\n",
       "     Vavuniya - Total  Puttalam - Total  ...  Matara - Total  Galle - Total  \\\n",
       "277                 0                 0  ...               0              0   \n",
       "278                 0                 0  ...               0              0   \n",
       "279                 0                 0  ...               0              0   \n",
       "280                 0                 0  ...               0              0   \n",
       "281                 6                48  ...               6             24   \n",
       "\n",
       "     Kandakadu Rehabilitation Center - Total  Naval Base - Welisara - Total  \\\n",
       "277                                        0                              0   \n",
       "278                                        0                              0   \n",
       "279                                        0                              0   \n",
       "280                                        0                              0   \n",
       "281                                      396                              0   \n",
       "\n",
       "     Overseas Arrivals (Quarantine Centers) - Total  \\\n",
       "277                                               0   \n",
       "278                                               0   \n",
       "279                                               0   \n",
       "280                                               0   \n",
       "281                                               8   \n",
       "\n",
       "     Senapura Rehabilitation Center - Total  Unspecified - Total  \\\n",
       "277                                       0                    0   \n",
       "278                                       0                    0   \n",
       "279                                       0                    0   \n",
       "280                                       0                    0   \n",
       "281                                     145                 3741   \n",
       "\n",
       "     Godagama - Total  Kendalanda - Total  Total_Island  \n",
       "277                 0                   0           0.0  \n",
       "278                 0                   0           0.0  \n",
       "279                 0                   0           0.0  \n",
       "280                 0                   0           0.0  \n",
       "281                 1                   1           NaN  \n",
       "\n",
       "[5 rows x 34 columns]"
      ]
     },
     "execution_count": 11,
     "metadata": {},
     "output_type": "execute_result"
    }
   ],
   "source": [
    "data.tail()"
   ]
  },
  {
   "cell_type": "code",
   "execution_count": 22,
   "metadata": {},
   "outputs": [],
   "source": [
    "island_data = data.iloc[0:277, -1]"
   ]
  },
  {
   "cell_type": "code",
   "execution_count": 23,
   "metadata": {},
   "outputs": [
    {
     "data": {
      "text/plain": [
       "227      8.0\n",
       "228     14.0\n",
       "229     26.0\n",
       "230     39.0\n",
       "231     28.0\n",
       "232      9.0\n",
       "233      0.0\n",
       "234      5.0\n",
       "235      5.0\n",
       "236      2.0\n",
       "237      4.0\n",
       "238     12.0\n",
       "239     14.0\n",
       "240     11.0\n",
       "241      9.0\n",
       "242     12.0\n",
       "243      4.0\n",
       "244     11.0\n",
       "245      3.0\n",
       "246     11.0\n",
       "247      6.0\n",
       "248      2.0\n",
       "249      6.0\n",
       "250      8.0\n",
       "251     75.0\n",
       "252    262.0\n",
       "253    519.0\n",
       "254    207.0\n",
       "255     29.0\n",
       "256     35.0\n",
       "257    105.0\n",
       "258    124.0\n",
       "259     92.0\n",
       "260    194.0\n",
       "261    132.0\n",
       "262     74.0\n",
       "263    110.0\n",
       "264    121.0\n",
       "265     63.0\n",
       "266     87.0\n",
       "267    186.0\n",
       "268    167.0\n",
       "269    309.0\n",
       "270    866.0\n",
       "271    368.0\n",
       "272    351.0\n",
       "273    541.0\n",
       "274    457.0\n",
       "275    335.0\n",
       "276    586.0\n",
       "Name: Total_Island, dtype: float64"
      ]
     },
     "execution_count": 23,
     "metadata": {},
     "output_type": "execute_result"
    }
   ],
   "source": [
    "island_data.tail(50)"
   ]
  },
  {
   "cell_type": "code",
   "execution_count": 17,
   "metadata": {},
   "outputs": [],
   "source": [
    "## splitting data"
   ]
  },
  {
   "cell_type": "code",
   "execution_count": 24,
   "metadata": {},
   "outputs": [],
   "source": [
    "test_data_size = 15\n",
    "train_data = island_data[:-test_data_size]\n",
    "test_data = island_data[-test_data_size:]"
   ]
  },
  {
   "cell_type": "code",
   "execution_count": 25,
   "metadata": {},
   "outputs": [
    {
     "data": {
      "text/plain": [
       "(262,)"
      ]
     },
     "execution_count": 25,
     "metadata": {},
     "output_type": "execute_result"
    }
   ],
   "source": [
    "train_data.shape"
   ]
  },
  {
   "cell_type": "code",
   "execution_count": 26,
   "metadata": {},
   "outputs": [
    {
     "data": {
      "text/plain": [
       "0        1.0\n",
       "1        0.0\n",
       "2        0.0\n",
       "3        0.0\n",
       "4        0.0\n",
       "       ...  \n",
       "257    105.0\n",
       "258    124.0\n",
       "259     92.0\n",
       "260    194.0\n",
       "261    132.0\n",
       "Name: Total_Island, Length: 262, dtype: float64"
      ]
     },
     "execution_count": 26,
     "metadata": {},
     "output_type": "execute_result"
    }
   ],
   "source": [
    "train_data"
   ]
  },
  {
   "cell_type": "code",
   "execution_count": 28,
   "metadata": {},
   "outputs": [],
   "source": [
    "from sklearn.preprocessing import MinMaxScaler\n",
    "scaler = MinMaxScaler()"
   ]
  },
  {
   "cell_type": "code",
   "execution_count": null,
   "metadata": {},
   "outputs": [],
   "source": []
  },
  {
   "cell_type": "code",
   "execution_count": null,
   "metadata": {},
   "outputs": [],
   "source": []
  }
 ],
 "metadata": {
  "kernelspec": {
   "display_name": "Python 3",
   "language": "python",
   "name": "python3"
  },
  "language_info": {
   "codemirror_mode": {
    "name": "ipython",
    "version": 3
   },
   "file_extension": ".py",
   "mimetype": "text/x-python",
   "name": "python",
   "nbconvert_exporter": "python",
   "pygments_lexer": "ipython3",
   "version": "3.6.10"
  }
 },
 "nbformat": 4,
 "nbformat_minor": 4
}
